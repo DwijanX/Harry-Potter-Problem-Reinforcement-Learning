{
 "cells": [
  {
   "cell_type": "markdown",
   "id": "852b5650",
   "metadata": {},
   "source": [
    "# Q-Learning - Frozen Lake"
   ]
  },
  {
   "cell_type": "code",
   "execution_count": 14,
   "id": "3ade2414",
   "metadata": {},
   "outputs": [],
   "source": [
    "import numpy as np\n",
    "import random\n",
    "import time\n",
    "from IPython.display import clear_output\n",
    "from matplotlib import pyplot as plot\n",
    "import numpy as np\n",
    "import math\n",
    "import copy"
   ]
  },
  {
   "cell_type": "code",
   "execution_count": 127,
   "id": "0cdf1083",
   "metadata": {},
   "outputs": [],
   "source": [
    "class Environment:\n",
    "    def __init__(self, width, height, start, goal):\n",
    "        self.width = width\n",
    "        self.height = height\n",
    "        self.start = start\n",
    "        self.goal = goal\n",
    "        self.gameOver=False\n",
    "        self.actor_position = start\n",
    "        self.airCurrentsColumns=[3,4,5]\n",
    "        self.airCurrentsProbs={3:0.9,4:0.8,5:0.9}\n",
    "        self.airCurrentsStrength={3:1,4:2,5:1}\n",
    "        self.goalReward=10\n",
    "        self.normalBoxReward=-1\n",
    "        self.penaltyFalling=-2\n",
    "        \n",
    "\n",
    "    def reset(self):\n",
    "        self.gameOver=False\n",
    "        self.actor_position = self.start\n",
    "        return self.__getCurrentState__()\n",
    "    \n",
    "    def move_up(self,canGetOutOfTheMap=False):\n",
    "        if self.actor_position[1] > 0 or canGetOutOfTheMap:\n",
    "            self.actor_position = (self.actor_position[0], self.actor_position[1] - 1)\n",
    "\n",
    "    def move_right(self):\n",
    "        if self.actor_position[0] < self.width - 1:\n",
    "            self.actor_position = (self.actor_position[0] + 1, self.actor_position[1])\n",
    "\n",
    "    def move_down(self):\n",
    "        if self.actor_position[1] < self.height - 1:\n",
    "            self.actor_position = (self.actor_position[0], self.actor_position[1] + 1)\n",
    "\n",
    "    def move_left(self):\n",
    "        if self.actor_position[0] > 0:\n",
    "            self.actor_position = (self.actor_position[0] - 1, self.actor_position[1])\n",
    "\n",
    "    def move_up_left(self):\n",
    "        if self.actor_position[1] > 0  and self.actor_position[0] > 0:\n",
    "            self.actor_position = (self.actor_position[0] - 1, self.actor_position[1] - 1)\n",
    "    def move_down_left(self):\n",
    "        if self.actor_position[1] < self.height - 1 and self.actor_position[0] > 0:\n",
    "            self.actor_position = (self.actor_position[0] - 1, self.actor_position[1] + 1)\n",
    "    def move_down_right(self):\n",
    "        if self.actor_position[1] < self.height - 1 and self.actor_position[0] < self.width - 1:\n",
    "            self.actor_position = (self.actor_position[0] + 1, self.actor_position[1] + 1)\n",
    "    def move_up_right(self):\n",
    "        if self.actor_position[1] > 0 and self.actor_position[0] < self.width - 1:\n",
    "            self.actor_position = (self.actor_position[0] + 1, self.actor_position[1] - 1)\n",
    "\n",
    "\n",
    "    \n",
    "    def doAction(self,action):\n",
    "        if int(action) == 0:\n",
    "            env.move_up()\n",
    "        elif int(action) == 1:\n",
    "            env.move_up_right()\n",
    "        elif int(action) == 2:\n",
    "            env.move_right()\n",
    "        elif int(action) == 3:\n",
    "            env.move_down_right()\n",
    "        elif int(action) == 4:\n",
    "            env.move_down()\n",
    "        elif int(action) == 5:\n",
    "            env.move_down_left()\n",
    "        elif int(action) == 6:\n",
    "            env.move_left()\n",
    "        elif int(action) == 7:\n",
    "            env.move_up_left()\n",
    "    \n",
    "    def moveAirCurrent(self):\n",
    "        if self.actor_position[0] in self.airCurrentsColumns:\n",
    "            rand=random.random()\n",
    "            if rand<=self.airCurrentsProbs[self.actor_position[0]]:\n",
    "                for _ in range(self.airCurrentsStrength[self.actor_position[0]]):\n",
    "                    self.move_up(canGetOutOfTheMap=True)\n",
    "                    \n",
    "                    \n",
    "                \n",
    "    def __getCurrentState__(self):\n",
    "        return self.width*self.actor_position[1]+self.actor_position[0]\n",
    "    \n",
    "    def calculateReward(self):\n",
    "        if self.actor_position == self.goal:\n",
    "            self.gameOver=True \n",
    "            return self.goalReward\n",
    "        elif self.actor_position[1]<0:\n",
    "            self.gameOver=True \n",
    "            return self.penaltyFalling\n",
    "        else:\n",
    "            return self.normalBoxReward\n",
    "    \n",
    "    def step(self,action):\n",
    "        self.doAction(action)\n",
    "        self.moveAirCurrent()\n",
    "        \n",
    "        reward=self.calculateReward()\n",
    "        return self.__getCurrentState__(),reward,self.gameOver\n",
    "    \n",
    "    def render(self):\n",
    "        for row in range(self.height):\n",
    "            for col in range(self.width):\n",
    "                if (col, row) == self.actor_position:\n",
    "                    print(\"S\", end=\" \")\n",
    "                elif (col, row) == self.goal:\n",
    "                    print(\"G\", end=\" \")\n",
    "                else:\n",
    "                    print(\".\", end=\" \")\n",
    "            print()\n"
   ]
  },
  {
   "cell_type": "code",
   "execution_count": 128,
   "id": "e49ed179",
   "metadata": {},
   "outputs": [
    {
     "name": "stdout",
     "output_type": "stream",
     "text": [
      ". . . . . . . . . \n",
      ". S . . . . . . . \n",
      ". . . . . . . . . \n",
      ". . . . . . . . . \n",
      ". . . . . . . G . \n",
      ". . . . . . . . . \n",
      ". . . . . . . . . \n"
     ]
    },
    {
     "ename": "KeyboardInterrupt",
     "evalue": "Interrupted by user",
     "output_type": "error",
     "traceback": [
      "\u001b[1;31m---------------------------------------------------------------------------\u001b[0m",
      "\u001b[1;31mKeyboardInterrupt\u001b[0m                         Traceback (most recent call last)",
      "Cell \u001b[1;32mIn[128], line 5\u001b[0m\n\u001b[0;32m      2\u001b[0m env\u001b[38;5;241m.\u001b[39mrender()\n\u001b[0;32m      4\u001b[0m \u001b[38;5;28;01mwhile\u001b[39;00m \u001b[38;5;241m1\u001b[39m:\n\u001b[1;32m----> 5\u001b[0m     action \u001b[38;5;241m=\u001b[39m \u001b[38;5;28;43minput\u001b[39;49m\u001b[43m(\u001b[49m\u001b[38;5;124;43m\"\u001b[39;49m\u001b[38;5;124;43mEnter action (up, upright, right, downright, down, downleft, left, upleft): \u001b[39;49m\u001b[38;5;124;43m\"\u001b[39;49m\u001b[43m)\u001b[49m\n\u001b[0;32m      6\u001b[0m     new_state, reward, done\u001b[38;5;241m=\u001b[39menv\u001b[38;5;241m.\u001b[39mstep(action)\n\u001b[0;32m      7\u001b[0m     \u001b[38;5;28mprint\u001b[39m(reward)\n",
      "File \u001b[1;32m~\\anaconda3\\envs\\tfGPU\\lib\\site-packages\\ipykernel\\kernelbase.py:1175\u001b[0m, in \u001b[0;36mKernel.raw_input\u001b[1;34m(self, prompt)\u001b[0m\n\u001b[0;32m   1171\u001b[0m \u001b[38;5;28;01mif\u001b[39;00m \u001b[38;5;129;01mnot\u001b[39;00m \u001b[38;5;28mself\u001b[39m\u001b[38;5;241m.\u001b[39m_allow_stdin:\n\u001b[0;32m   1172\u001b[0m     \u001b[38;5;28;01mraise\u001b[39;00m StdinNotImplementedError(\n\u001b[0;32m   1173\u001b[0m         \u001b[38;5;124m\"\u001b[39m\u001b[38;5;124mraw_input was called, but this frontend does not support input requests.\u001b[39m\u001b[38;5;124m\"\u001b[39m\n\u001b[0;32m   1174\u001b[0m     )\n\u001b[1;32m-> 1175\u001b[0m \u001b[38;5;28;01mreturn\u001b[39;00m \u001b[38;5;28;43mself\u001b[39;49m\u001b[38;5;241;43m.\u001b[39;49m\u001b[43m_input_request\u001b[49m\u001b[43m(\u001b[49m\n\u001b[0;32m   1176\u001b[0m \u001b[43m    \u001b[49m\u001b[38;5;28;43mstr\u001b[39;49m\u001b[43m(\u001b[49m\u001b[43mprompt\u001b[49m\u001b[43m)\u001b[49m\u001b[43m,\u001b[49m\n\u001b[0;32m   1177\u001b[0m \u001b[43m    \u001b[49m\u001b[38;5;28;43mself\u001b[39;49m\u001b[38;5;241;43m.\u001b[39;49m\u001b[43m_parent_ident\u001b[49m\u001b[43m[\u001b[49m\u001b[38;5;124;43m\"\u001b[39;49m\u001b[38;5;124;43mshell\u001b[39;49m\u001b[38;5;124;43m\"\u001b[39;49m\u001b[43m]\u001b[49m\u001b[43m,\u001b[49m\n\u001b[0;32m   1178\u001b[0m \u001b[43m    \u001b[49m\u001b[38;5;28;43mself\u001b[39;49m\u001b[38;5;241;43m.\u001b[39;49m\u001b[43mget_parent\u001b[49m\u001b[43m(\u001b[49m\u001b[38;5;124;43m\"\u001b[39;49m\u001b[38;5;124;43mshell\u001b[39;49m\u001b[38;5;124;43m\"\u001b[39;49m\u001b[43m)\u001b[49m\u001b[43m,\u001b[49m\n\u001b[0;32m   1179\u001b[0m \u001b[43m    \u001b[49m\u001b[43mpassword\u001b[49m\u001b[38;5;241;43m=\u001b[39;49m\u001b[38;5;28;43;01mFalse\u001b[39;49;00m\u001b[43m,\u001b[49m\n\u001b[0;32m   1180\u001b[0m \u001b[43m\u001b[49m\u001b[43m)\u001b[49m\n",
      "File \u001b[1;32m~\\anaconda3\\envs\\tfGPU\\lib\\site-packages\\ipykernel\\kernelbase.py:1217\u001b[0m, in \u001b[0;36mKernel._input_request\u001b[1;34m(self, prompt, ident, parent, password)\u001b[0m\n\u001b[0;32m   1214\u001b[0m             \u001b[38;5;28;01mbreak\u001b[39;00m\n\u001b[0;32m   1215\u001b[0m \u001b[38;5;28;01mexcept\u001b[39;00m \u001b[38;5;167;01mKeyboardInterrupt\u001b[39;00m:\n\u001b[0;32m   1216\u001b[0m     \u001b[38;5;66;03m# re-raise KeyboardInterrupt, to truncate traceback\u001b[39;00m\n\u001b[1;32m-> 1217\u001b[0m     \u001b[38;5;28;01mraise\u001b[39;00m \u001b[38;5;167;01mKeyboardInterrupt\u001b[39;00m(\u001b[38;5;124m\"\u001b[39m\u001b[38;5;124mInterrupted by user\u001b[39m\u001b[38;5;124m\"\u001b[39m) \u001b[38;5;28;01mfrom\u001b[39;00m \u001b[38;5;28mNone\u001b[39m\n\u001b[0;32m   1218\u001b[0m \u001b[38;5;28;01mexcept\u001b[39;00m \u001b[38;5;167;01mException\u001b[39;00m:\n\u001b[0;32m   1219\u001b[0m     \u001b[38;5;28mself\u001b[39m\u001b[38;5;241m.\u001b[39mlog\u001b[38;5;241m.\u001b[39mwarning(\u001b[38;5;124m\"\u001b[39m\u001b[38;5;124mInvalid Message:\u001b[39m\u001b[38;5;124m\"\u001b[39m, exc_info\u001b[38;5;241m=\u001b[39m\u001b[38;5;28;01mTrue\u001b[39;00m)\n",
      "\u001b[1;31mKeyboardInterrupt\u001b[0m: Interrupted by user"
     ]
    }
   ],
   "source": [
    "env = Environment(9,7, (1,1), (7, 4))\n",
    "env.render()\n",
    "\n",
    "while 1:\n",
    "    action = input(\"Enter action (up, upright, right, downright, down, downleft, left, upleft): \")\n",
    "    new_state, reward, done=env.step(action)\n",
    "    print(reward)\n",
    "    print(done)\n",
    "    env.render()\n",
    "\n",
    "print(\"Goal reached!\")"
   ]
  },
  {
   "cell_type": "markdown",
   "id": "a7f4d347",
   "metadata": {},
   "source": [
    "Create game environment for frozen lake."
   ]
  },
  {
   "cell_type": "code",
   "execution_count": 129,
   "id": "4a110454",
   "metadata": {},
   "outputs": [],
   "source": [
    "env = Environment(9,7, (1,1), (7, 4))\n"
   ]
  },
  {
   "cell_type": "markdown",
   "id": "235d9dec",
   "metadata": {},
   "source": [
    "Render the environment:"
   ]
  },
  {
   "cell_type": "code",
   "execution_count": 130,
   "id": "2b7262b6",
   "metadata": {},
   "outputs": [
    {
     "name": "stdout",
     "output_type": "stream",
     "text": [
      ". . . . . . . . . \n",
      ". S . . . . . . . \n",
      ". . . . . . . . . \n",
      ". . . . . . . . . \n",
      ". . . . . . . G . \n",
      ". . . . . . . . . \n",
      ". . . . . . . . . \n"
     ]
    }
   ],
   "source": [
    "env.reset()                    \n",
    "env.render()"
   ]
  },
  {
   "cell_type": "markdown",
   "id": "c28cd388",
   "metadata": {},
   "source": [
    "# Complete the code"
   ]
  },
  {
   "cell_type": "markdown",
   "id": "027b99aa",
   "metadata": {},
   "source": [
    "Initialize some parameters."
   ]
  },
  {
   "cell_type": "code",
   "execution_count": 145,
   "id": "353f9f93",
   "metadata": {},
   "outputs": [],
   "source": [
    "num_episodes = 10000\n",
    "max_steps_per_episode = 100\n",
    "\n",
    "learning_rate = 0.2\n",
    "discount_rate = 0.95\n",
    "\n",
    "rewards_avg = []\n",
    "\n",
    "q_tableOrig =  [[0] * 8 for _ in range(9*7)]"
   ]
  },
  {
   "cell_type": "markdown",
   "id": "55f0c5e2",
   "metadata": {},
   "source": [
    "Run Q-Learning algorithm:"
   ]
  },
  {
   "cell_type": "code",
   "execution_count": 146,
   "id": "86a797a3",
   "metadata": {},
   "outputs": [
    {
     "name": "stdout",
     "output_type": "stream",
     "text": [
      "average  0\n",
      "average  1\n",
      "average  2\n",
      "average  3\n",
      "average  4\n",
      "average  5\n",
      "average  6\n",
      "average  7\n",
      "average  8\n",
      "average  9\n",
      "average  10\n",
      "average  11\n",
      "average  12\n",
      "average  13\n",
      "average  14\n",
      "average  15\n",
      "average  16\n",
      "average  17\n",
      "average  18\n",
      "average  19\n",
      "average  20\n",
      "average  21\n",
      "average  22\n",
      "average  23\n",
      "average  24\n",
      "average  25\n",
      "average  26\n",
      "average  27\n",
      "average  28\n",
      "average  29\n",
      "average  30\n",
      "average  31\n",
      "average  32\n",
      "average  33\n",
      "average  34\n",
      "average  35\n",
      "average  36\n",
      "average  37\n",
      "average  38\n",
      "average  39\n",
      "average  40\n",
      "average  41\n",
      "average  42\n",
      "average  43\n",
      "average  44\n",
      "average  45\n",
      "average  46\n",
      "average  47\n",
      "average  48\n",
      "average  49\n"
     ]
    }
   ],
   "source": [
    "# This cycle is to calculate the average reward/episodes and its only purpose is to plot the nice graph below that\n",
    "# shows how the agent learn how to maximize the reward.\n",
    "rewards_avg=[]\n",
    "for it in range(50):\n",
    "    print('average ', it)\n",
    "    rewards_all_episodes=[]\n",
    "    \n",
    "    # exporation-exploitation trade-off params\n",
    "    exploration_rate = 1\n",
    "    max_exploration_rate = 1\n",
    "    min_exploration_rate = 0.01\n",
    "    exploration_decay_rate = 0.0005\n",
    "    \n",
    "    q_table = [[0] * 8 for _ in range(9*7)]\n",
    "    # iterate over the episodes\n",
    "    for episode in range(num_episodes):\n",
    "        state = env.reset()\n",
    "        done = False\n",
    "        currentQTable=copy.deepcopy(q_table)\n",
    "        rewards_current_episode = 0\n",
    "        # iterate over the steps for an episode\n",
    "        for step in range(max_steps_per_episode):\n",
    "            # Exploration-exploitation trade-off\n",
    "            exploration_rate_threshold = random.random()\n",
    "            if exploration_rate_threshold <= exploration_rate:\n",
    "                action = random.randint(0,7)\n",
    "            else:\n",
    "                action = np.argmax(currentQTable[state])\n",
    "\n",
    "            # Take action\n",
    "            new_state, reward, done = env.step(action)\n",
    "            \"\"\"if done==True and reward==0:\n",
    "                reward=-1\n",
    "            elif reward==0:\n",
    "                reward=0\n",
    "            else:\n",
    "                reward=1\"\"\"\n",
    "            #reward-=step*0.05\n",
    "            # Update Q-table for Q(s,a)  \n",
    "            value=(1-learning_rate)*currentQTable[state][action]+learning_rate*(reward+discount_rate*max(currentQTable[new_state]))\n",
    "            \n",
    "            q_table[state][action] = value\n",
    "            \n",
    "            # transition next state\n",
    "            state = new_state\n",
    "            rewards_current_episode += reward\n",
    "            if done == True:\n",
    "                break\n",
    "\n",
    "        # Exploration rate decay\n",
    "        exploration_rate = min_exploration_rate+(max_exploration_rate-min_exploration_rate)*pow(math.e,(-exploration_decay_rate*episode))\n",
    "\n",
    "        rewards_all_episodes.append(rewards_current_episode)\n",
    "    #print(q_table)\n",
    "    rewards_avg.append(rewards_all_episodes)"
   ]
  },
  {
   "cell_type": "code",
   "execution_count": 147,
   "id": "64b37eb4",
   "metadata": {},
   "outputs": [
    {
     "data": {
      "text/plain": [
       "[<matplotlib.lines.Line2D at 0x242031ddc40>]"
      ]
     },
     "execution_count": 147,
     "metadata": {},
     "output_type": "execute_result"
    },
    {
     "data": {
      "image/png": "[encoded data removed]",
      "text/plain": [
       "<Figure size 640x480 with 1 Axes>"
      ]
     },
     "metadata": {},
     "output_type": "display_data"
    }
   ],
   "source": [
    "\n",
    "x = [i for i in range(0,num_episodes)]\n",
    "y = np.mean(rewards_avg, axis=0)\n",
    "plot.xlabel('Episodes')\n",
    "plot.ylabel('Reward')\n",
    "plot.plot(x, y,'o')\n"
   ]
  },
  {
   "cell_type": "code",
   "execution_count": 148,
   "id": "a640d05c",
   "metadata": {},
   "outputs": [
    {
     "name": "stdout",
     "output_type": "stream",
     "text": [
      "\n",
      "\n",
      "********Q-table********\n",
      "\n",
      "[[-0.24852173801877991, -0.3030311642782833, 0.12594986978487077, 1.3377823330331322, 0.5372481026497844, -0.10561995532717591, 0.006347457631291291, 0.16629517184812817], [0.22452585286547513, -0.015045261216629774, 0.3291052210362113, 1.3409892538366908, 0.6568468780631067, 0.5876086269385437, 0.1454517977143507, 0.1307466245546665], [0.2767361487004605, 0.26666837665730814, -0.15384550832507674, 0.354578134337906, 1.3992842994730328, 1.267651744882573, 0.1819333548689253, 0.16521384407361098], [-0.17868226676141183, -0.25144200213891066, 1.2741584949813354, 0.2947470422867597, 0.39988526002536906, 1.3436071379905248, 0.23576270119392445, -0.06546979821355313], [1.983946108120847, 1.5861434938311103, -0.4777514868975967, 4.600928289534647, 1.1202088133737595, 0.654325696074331, -0.06635710818733034, 1.643372735357714], [-1.6734395639250663, -0.7128263870532332, 4.432148912630938, 5.721249999999992, 4.643288727755077, -0.7309623521403072, 1.4774626456040587, -1.570176528856106], [3.272177214876478, 3.9223899876796082, 2.8441706110906995, 5.721249999983353, 5.38953465553044, 3.169142901326431, -0.45016534931262875, 2.1632024975894217], [0.9927916047083767, 1.6018155878071687, 1.2575796258576353, 2.5766120266454857, 2.3690334289305968, 5.720307424095633, 0.5669003096705423, 0.17652659173370677], [-0.36114723657063325, 0.449794254138396, -0.040031284066217976, 0.0472622443434656, -0.33150202287616637, 5.632263356950034, -0.8558266527779361, 1.3749514415263744], [0.09658715083196223, 0.09178652065706451, 1.0357436056214286, 2.05267835881828, 0.29259576373825225, 0.4709787262954032, 0.3821080789527279, 0.6365046834623012], [0.32463477580138117, 0.38727404759968176, 1.3619246857437488, 2.43235844079312, 2.0526703668468915, 0.9498043233472913, 0.9499381627090652, 0.2779095819800127], [0.4284380760876809, -0.0632066170249693, 0.5684499418783511, 2.3328121772451347, 2.379453541637191, 2.0329342878665217, 1.3342134841516118, 0.4372807031797741], [0.036864817342900466, 1.8269818376174825, -0.20454948556338742, 4.162915779714063, 2.5011720342565145, 2.3817803713315495, 1.5703732279357938, 0.49574843755151055], [2.516342340056616, -0.11608472247213808, 4.4361000476974315, 5.852916435472049, 3.4670222699865727, 2.688585653144015, 0.3838650644341198, -0.04320373694486414], [-1.9886235372112222, 4.43518522408765, 5.721249718813184, 7.074999999999991, 5.848808190404159, 3.7451435809825804, 0.7399660622750243, 2.293209803995378], [4.4339724542804095, 4.419071977931046, 5.7169991633337345, 7.061336122257758, 7.074999999999991, 5.976306893127947, 4.448873963692973, -1.7818642542495056], [2.990944304221659, 3.638417572806469, 5.124117110811084, 6.611732053432892, 7.074999999999991, 6.357320827368503, 4.997321319045662, 4.00740090030648], [0.8679883906034627, 1.43527434513925, 0.8091558358527999, 0.7353568779239834, 7.070489288840421, 3.3642017794846657, 2.6861593481659014, -0.593716], [0.7695807694827279, 1.0346449005816147, 1.6045340709179075, 2.0526187161844356, 0.3392771201126803, 0.6134739282310645, 0.000978836154746282, -0.42249740535421926], [1.32187724010428, 1.4392357617135942, 2.51519136667331, 3.2134087619563525, 2.028514254311917, 0.8604483092060884, 0.6923226707827372, 0.7993204741260629], [1.4228767623801006, 1.026445316636883, 2.5587864445459525, 3.8718380846419604, 3.213404406065109, 2.0526915564656254, 2.0526423693927525, 1.36764200608599], [0.33354244320794624, 0.6081657649073695, 4.166859115950639, 4.925123252652058, 3.580931324114256, 3.2132510728350376, 2.521729445728736, 1.375915178431887], [-0.30181175230121515, 4.428447726617204, 6.005034507245346, 7.074999999999991, 4.949481937310136, 3.618556812634511, 2.5803009435466473, 0.6920916585379862], [4.764807361834484, 5.7212304288982985, 7.074985584729831, 8.499999999999993, 7.0749852124911765, 4.691180469621589, 3.7285571611482196, -0.7604307253695264], [5.721249949456363, 5.721249974624483, 7.074999947326435, 8.499999999999993, 8.499999990338125, 7.074999989047362, 5.765558385697033, 4.454477023620459], [5.571145360270252, 5.423267062250631, 7.031223542905986, 8.237575775423478, 8.420155013021901, 8.499999999999993, 6.883257035234061, 5.652370597029302], [4.466135337892134, 5.04362878770032, 4.901080733054255, 5.219377044468575, 7.8973710652083025, 8.499999999976875, 5.7507883983699895, 3.400152655888052], [-1.0337392273742485, -0.3152038974732654, 2.0333399527657474, 0.09059959727025602, -0.7836650308757234, -0.7317675581588096, -2.2308033205505757, 0.00010946056368588142], [1.9796297524301616, 2.3868288729709795, 3.2134081131424708, 2.795561030444142, 1.9790082636671595, 0.8271099037438356, 0.8103022621222076, 0.8655081146687185], [2.4528179978746785, 2.740477503022005, 3.8103897698968527, 4.435160611716666, 3.1498871532633426, 1.9871251894658866, 2.0315820197849734, 2.032822729171804], [2.618099393810083, 4.0251800579468995, 4.975994128125771, 5.721241958668849, 4.4333278907090286, 3.1238689905612285, 3.207063066771857, 2.4838550309541674], [3.270160709573308, 5.723838780357705, 7.074999999999991, 6.97537759295373, 5.6390626724832575, 4.389318716727693, 3.639511714289406, 2.820985916427636], [5.312679736076878, 6.973029234993325, 8.499999999999993, 8.23909113989071, 6.941315586593418, 5.5669310148482705, 4.600280343499988, 4.254573876418334], [7.0749844426027755, 7.074989061691805, 8.499999596800611, 9.999999999999996, 8.49999508260547, 7.072016576283749, 7.074998453574158, 5.759661358484829], [7.074999971257506, 7.074999703118691, 8.499995743196425, 7.07498453573562, 9.999999999999996, 8.499999716081618, 8.49999998887825, 7.074999021557726], [4.724306290501326, 4.871257454002387, 6.568242985172333, 4.5113413780756835, 3.2425173929989306, 9.999999953683167, 6.614642048450573, 5.805773642381082], [-2.003798511987997, 0.1555294491035822, 1.9847657452115681, -1.7696158050304902, -0.8230466779614793, -1.04987193423572, -1.5205813331107365, -1.6212889140883404], [1.1557808201681612, 2.686053469428326, 1.0553358213306767, 3.1995360201450755, 0.8283992711793295, 0.15901192001162961, 0.04487201275182581, 0.03409700396639759], [2.4938867699894, 2.5502793116416043, 2.012522051024133, 4.419213838273698, 2.5397386044599917, 0.8667374759603848, 0.8759424945366213, 1.4062623296394716], [3.202198678023669, 4.94703293761237, 5.721222756324833, 4.220999492404668, 2.88664129684554, 2.975024092800886, 1.6285068540794059, 2.6486623689155695], [3.825084041685594, 4.7353080081903425, 7.074924023322555, 4.727853779137113, 3.963630009473482, 3.721451585177382, 1.5504245998212056, 2.129684779268521], [0, 8.499535101098374, 1.5673590458805366, 1.502809556960715, 3.35874777623833, 1.543440037740119, 0.5262991327743811, 0.728686862263202], [6.214508249794688, 6.611000905618683, 9.999999999997986, 5.026982070272002, 2.137272816193901, 4.1368442690051985, 6.313724261581457, 6.377430934959148], [0, 0, 0, 0, 0, 0, 0, 0], [2.1508198924066977, 3.8774672860677604, 0.5217098685110224, 1.2144563998682787, -0.1301456, 4.048484501504, 4.880000000000001, 8.49999875253604], [-2.8206069817988624, 1.912270668869244, -1.9339815397388338, -2.540639105826961, -2.8986069530290255, -2.3355286232954495, -1.6595483133686098, -2.2380802084163576], [-1.7196284918520637, -1.1151880970885375, 3.0988147336480845, -0.9363729955727382, -2.1837365080699223, -2.600263670154971, -2.303879768784945, -3.305502082812822], [1.565869212433086, 4.432457810864448, 2.1811457171683895, 2.1645307357554526, 1.3310030479646358, -1.4777342404162317, 1.0265242050410386, 0.6380191965225667], [-0.8893604400000001, 5.242690383489931, -0.9092960959872616, 0.25715813407158017, -0.10978259536077561, -0.6813172541191554, -1.281853590279194, -1.506657743758851], [0.9768058530927853, 4.5848253936391625, -0.2, -0.36000000000000004, 0.287874082626052, -0.30994173947216, 0.5100358931010909, 0.5426242638055367], [-0.1658, -0.1658, -0.10804000000000001, 0, -0.2, 0, 0, 0], [6.461850229154136, 0, 0, -0.2, -0.08135863879348211, 0, -0.2, 1.4149999999999985], [9.450244186112002, 1.4143933413860468, -0.1658, -0.36000000000000004, 0, -0.2, 0.21022836480000007, 0], [0, 0, 0, -0.2, -0.1658, -0.2, 2.4220409942016006, 0], [-0.71700929834869, -2.66361468756455, -2.626502189828245, -2.681079381651285, -2.5695062171909884, -2.6495283302321297, -2.6246481542797797, -2.7162411997956024], [-2.2469856634030902, -1.3600021935357005, 1.0098535881985096, -2.5446119345918414, -2.6278201371271734, -2.2657211295765074, -2.6713702980337493, -2.7182790592907247], [-0.6295268292169225, 3.5644584898638625, -1.1115641046777274, -1.1229804024764019, -1.0997114098719534, -1.162827348951769, -2.153779846683811, -1.8772150279223156], [-0.3816880280997104, 2.036518911065409, -0.2, -0.2, 0, -0.2, 0, 0], [-0.2581481379584, 0.37668458905190416, 0, -0.2, 0, 0, 0, -0.31604438814748714], [0, 0, 0, 0, 0, 0, 0, 0], [1.0637530763223046, 1.0774080000000001, 0, 0, 0, 0, 0, 0], [0.18, -0.2, 0, 0, -0.2, 0, 0, 0], [-0.2, -0.2, -0.2, -0.2, 0, 0, 0, 1.06576]]\n"
     ]
    }
   ],
   "source": [
    "# Print updated Q-table\n",
    "print(\"\\n\\n********Q-table********\\n\")\n",
    "print(q_table)"
   ]
  },
  {
   "cell_type": "markdown",
   "id": "92c22839",
   "metadata": {},
   "source": [
    "watch it play!"
   ]
  },
  {
   "cell_type": "code",
   "execution_count": 149,
   "id": "ed17163f",
   "metadata": {},
   "outputs": [
    {
     "name": "stdout",
     "output_type": "stream",
     "text": [
      "4\n",
      ". . . . . . . . . \n",
      ". . . . . . . . . \n",
      ". . . . . . . . . \n",
      ". . . . . . . . . \n",
      ". . . . . . . S . \n",
      ". . . . . . . . . \n",
      ". . . . . . . . . \n",
      "****You reached the goal!****\n"
     ]
    }
   ],
   "source": [
    "for episode in range(3):\n",
    "    state = env.reset()\n",
    "    done = False\n",
    "    print(\"*****EPISODE \", episode+1, \"*****\\n\\n\\n\\n\")\n",
    "    time.sleep(1)\n",
    "    \n",
    "    for step in range(max_steps_per_episode):        \n",
    "        clear_output(wait=True)\n",
    "        env.render()\n",
    "        time.sleep(0.3)\n",
    "        \n",
    "        action = np.argmax(q_table[state])   \n",
    "        \n",
    "        new_state, reward, done = env.step(action)\n",
    "        clear_output(wait=True)\n",
    "        print(action)\n",
    "        env.render()\n",
    "        if done:\n",
    "            \n",
    "            if reward == 10:\n",
    "                print(\"****You reached the goal!****\")\n",
    "                time.sleep(3)\n",
    "            else:\n",
    "                print(\"****You fell through a hole!****\")\n",
    "                time.sleep(3)\n",
    "                clear_output(wait=True)\n",
    "            break\n",
    "            \n",
    "        state = new_state"
   ]
  },
  {
   "cell_type": "code",
   "execution_count": null,
   "id": "0045899b",
   "metadata": {},
   "outputs": [],
   "source": []
  }
 ],
 "metadata": {
  "kernelspec": {
   "display_name": "Python 3 (ipykernel)",
   "language": "python",
   "name": "python3"
  },
  "language_info": {
   "codemirror_mode": {
    "name": "ipython",
    "version": 3
   },
   "file_extension": ".py",
   "mimetype": "text/x-python",
   "name": "python",
   "nbconvert_exporter": "python",
   "pygments_lexer": "ipython3",
   "version": "3.9.16"
  }
 },
 "nbformat": 4,
 "nbformat_minor": 5
}
