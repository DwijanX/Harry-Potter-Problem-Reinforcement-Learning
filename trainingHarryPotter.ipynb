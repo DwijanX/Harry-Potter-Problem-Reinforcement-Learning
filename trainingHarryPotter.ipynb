{
 "cells": [
  {
   "cell_type": "markdown",
   "id": "852b5650",
   "metadata": {},
   "source": [
    "# Q-Learning - Frozen Lake"
   ]
  },
  {
   "cell_type": "code",
   "execution_count": 1,
   "id": "3ade2414",
   "metadata": {},
   "outputs": [],
   "source": [
    "import numpy as np\n",
    "import random\n",
    "import time\n",
    "from IPython.display import clear_output\n",
    "from matplotlib import pyplot as plot\n",
    "import math\n",
    "import copy"
   ]
  },
  {
   "cell_type": "code",
   "execution_count": 2,
   "id": "0cdf1083",
   "metadata": {},
   "outputs": [],
   "source": [
    "class Environment:\n",
    "    def __init__(self, width, height, start, goal):\n",
    "        self.width = width\n",
    "        self.height = height\n",
    "        self.start = start\n",
    "        self.goal = goal\n",
    "        self.gameOver=False\n",
    "        self.actor_position = start\n",
    "        self.airCurrentsColumns=[3,4,5]\n",
    "        self.airCurrentsProbs={3:0.9,4:0.8,5:0.9}\n",
    "        self.airCurrentsStrength={3:1,4:2,5:1}\n",
    "        self.goalReward=10\n",
    "        self.normalBoxReward=-1\n",
    "        self.penaltyFalling=-2\n",
    "        \n",
    "\n",
    "    def reset(self):\n",
    "        self.gameOver=False\n",
    "        self.actor_position = self.start\n",
    "        return self.__getCurrentState__()\n",
    "    \n",
    "    def move_up(self,canGetOutOfTheMap=False):\n",
    "        if self.actor_position[1] > 0 or canGetOutOfTheMap:\n",
    "            self.actor_position = (self.actor_position[0], self.actor_position[1] - 1)\n",
    "\n",
    "    def move_right(self):\n",
    "        if self.actor_position[0] < self.width - 1:\n",
    "            self.actor_position = (self.actor_position[0] + 1, self.actor_position[1])\n",
    "\n",
    "    def move_down(self):\n",
    "        if self.actor_position[1] < self.height - 1:\n",
    "            self.actor_position = (self.actor_position[0], self.actor_position[1] + 1)\n",
    "\n",
    "    def move_left(self):\n",
    "        if self.actor_position[0] > 0:\n",
    "            self.actor_position = (self.actor_position[0] - 1, self.actor_position[1])\n",
    "\n",
    "    def move_up_left(self):\n",
    "        if self.actor_position[1] > 0  and self.actor_position[0] > 0:\n",
    "            self.actor_position = (self.actor_position[0] - 1, self.actor_position[1] - 1)\n",
    "    def move_down_left(self):\n",
    "        if self.actor_position[1] < self.height - 1 and self.actor_position[0] > 0:\n",
    "            self.actor_position = (self.actor_position[0] - 1, self.actor_position[1] + 1)\n",
    "    def move_down_right(self):\n",
    "        if self.actor_position[1] < self.height - 1 and self.actor_position[0] < self.width - 1:\n",
    "            self.actor_position = (self.actor_position[0] + 1, self.actor_position[1] + 1)\n",
    "    def move_up_right(self):\n",
    "        if self.actor_position[1] > 0 and self.actor_position[0] < self.width - 1:\n",
    "            self.actor_position = (self.actor_position[0] + 1, self.actor_position[1] - 1)\n",
    "\n",
    "\n",
    "    \n",
    "    def doAction(self,action):\n",
    "        if int(action) == 0:\n",
    "            env.move_up()\n",
    "        elif int(action) == 1:\n",
    "            env.move_up_right()\n",
    "        elif int(action) == 2:\n",
    "            env.move_right()\n",
    "        elif int(action) == 3:\n",
    "            env.move_down_right()\n",
    "        elif int(action) == 4:\n",
    "            env.move_down()\n",
    "        elif int(action) == 5:\n",
    "            env.move_down_left()\n",
    "        elif int(action) == 6:\n",
    "            env.move_left()\n",
    "        elif int(action) == 7:\n",
    "            env.move_up_left()\n",
    "    \n",
    "    def moveAirCurrent(self):\n",
    "        if self.actor_position[0] in self.airCurrentsColumns:\n",
    "            rand=random.random()\n",
    "            if rand<=self.airCurrentsProbs[self.actor_position[0]]:\n",
    "                for _ in range(self.airCurrentsStrength[self.actor_position[0]]):\n",
    "                    self.move_up(canGetOutOfTheMap=True)\n",
    "                    \n",
    "                    \n",
    "                \n",
    "    def __getCurrentState__(self):\n",
    "        return self.width*self.actor_position[1]+self.actor_position[0]\n",
    "    \n",
    "    def calculateReward(self):\n",
    "        if self.actor_position == self.goal:\n",
    "            self.gameOver=True \n",
    "            return self.goalReward\n",
    "        elif self.actor_position[1]<0:\n",
    "            self.gameOver=True \n",
    "            return self.penaltyFalling\n",
    "        else:\n",
    "            return self.normalBoxReward\n",
    "    \n",
    "    def step(self,action):\n",
    "        self.doAction(action)\n",
    "        self.moveAirCurrent()\n",
    "        \n",
    "        reward=self.calculateReward()\n",
    "        return self.__getCurrentState__(),reward,self.gameOver\n",
    "    \n",
    "    def render(self):\n",
    "        for row in range(self.height):\n",
    "            for col in range(self.width):\n",
    "                if (col, row) == self.actor_position:\n",
    "                    print(\"S\", end=\" \")\n",
    "                elif (col, row) == self.goal:\n",
    "                    print(\"G\", end=\" \")\n",
    "                else:\n",
    "                    print(\".\", end=\" \")\n",
    "            print()\n"
   ]
  },
  {
   "cell_type": "markdown",
   "id": "a7f4d347",
   "metadata": {},
   "source": [
    "Create game environment for frozen lake."
   ]
  },
  {
   "cell_type": "code",
   "execution_count": 3,
   "id": "4a110454",
   "metadata": {},
   "outputs": [],
   "source": [
    "env = Environment(9,7, (1,1), (7, 4))\n"
   ]
  },
  {
   "cell_type": "markdown",
   "id": "235d9dec",
   "metadata": {},
   "source": [
    "Render the environment:"
   ]
  },
  {
   "cell_type": "code",
   "execution_count": 4,
   "id": "2b7262b6",
   "metadata": {},
   "outputs": [
    {
     "name": "stdout",
     "output_type": "stream",
     "text": [
      ". . . . . . . . . \n",
      ". S . . . . . . . \n",
      ". . . . . . . . . \n",
      ". . . . . . . . . \n",
      ". . . . . . . G . \n",
      ". . . . . . . . . \n",
      ". . . . . . . . . \n"
     ]
    }
   ],
   "source": [
    "env.reset()                    \n",
    "env.render()"
   ]
  },
  {
   "cell_type": "markdown",
   "id": "c28cd388",
   "metadata": {},
   "source": [
    "# Complete the code"
   ]
  },
  {
   "cell_type": "markdown",
   "id": "027b99aa",
   "metadata": {},
   "source": [
    "Initialize some parameters."
   ]
  },
  {
   "cell_type": "code",
   "execution_count": 5,
   "id": "353f9f93",
   "metadata": {},
   "outputs": [],
   "source": [
    "num_episodes = 10000\n",
    "max_steps_per_episode = 100\n",
    "\n",
    "learning_rate = 0.2\n",
    "discount_rate = 0.95\n",
    "\n",
    "rewards_avg = []\n",
    "\n",
    "q_tableOrig =  [[0] * 8 for _ in range(9*7)]"
   ]
  },
  {
   "cell_type": "markdown",
   "id": "55f0c5e2",
   "metadata": {},
   "source": [
    "Run Q-Learning algorithm:"
   ]
  },
  {
   "cell_type": "code",
   "execution_count": 6,
   "id": "86a797a3",
   "metadata": {},
   "outputs": [
    {
     "name": "stdout",
     "output_type": "stream",
     "text": [
      "average  0\n",
      "average  1\n",
      "average  2\n",
      "average  3\n",
      "average  4\n",
      "average  5\n",
      "average  6\n",
      "average  7\n",
      "average  8\n",
      "average  9\n",
      "average  10\n",
      "average  11\n",
      "average  12\n",
      "average  13\n",
      "average  14\n",
      "average  15\n",
      "average  16\n",
      "average  17\n",
      "average  18\n",
      "average  19\n",
      "average  20\n",
      "average  21\n",
      "average  22\n",
      "average  23\n",
      "average  24\n",
      "average  25\n",
      "average  26\n",
      "average  27\n",
      "average  28\n",
      "average  29\n",
      "average  30\n",
      "average  31\n",
      "average  32\n",
      "average  33\n",
      "average  34\n",
      "average  35\n",
      "average  36\n",
      "average  37\n",
      "average  38\n",
      "average  39\n",
      "average  40\n",
      "average  41\n",
      "average  42\n",
      "average  43\n",
      "average  44\n",
      "average  45\n",
      "average  46\n",
      "average  47\n",
      "average  48\n",
      "average  49\n"
     ]
    }
   ],
   "source": [
    "# This cycle is to calculate the average reward/episodes and its only purpose is to plot the nice graph below that\n",
    "# shows how the agent learn how to maximize the reward.\n",
    "rewards_avg=[]\n",
    "for it in range(50):\n",
    "    print('average ', it)\n",
    "    rewards_all_episodes=[]\n",
    "    \n",
    "    # exporation-exploitation trade-off params\n",
    "    exploration_rate = 1\n",
    "    max_exploration_rate = 1\n",
    "    min_exploration_rate = 0.01\n",
    "    exploration_decay_rate = 0.0005\n",
    "    \n",
    "    q_table = [[0] * 8 for _ in range(9*7)]\n",
    "    # iterate over the episodes\n",
    "    for episode in range(num_episodes):\n",
    "        state = env.reset()\n",
    "        done = False\n",
    "        currentQTable=copy.deepcopy(q_table)\n",
    "        rewards_current_episode = 0\n",
    "        # iterate over the steps for an episode\n",
    "        for step in range(max_steps_per_episode):\n",
    "            # Exploration-exploitation trade-off\n",
    "            exploration_rate_threshold = random.random()\n",
    "            if exploration_rate_threshold <= exploration_rate:\n",
    "                action = random.randint(0,7)\n",
    "            else:\n",
    "                action = np.argmax(currentQTable[state])\n",
    "\n",
    "            # Take action\n",
    "            new_state, reward, done = env.step(action)\n",
    "            \"\"\"if done==True and reward==0:\n",
    "                reward=-1\n",
    "            elif reward==0:\n",
    "                reward=0\n",
    "            else:\n",
    "                reward=1\"\"\"\n",
    "            #reward-=step*0.05\n",
    "            # Update Q-table for Q(s,a)  \n",
    "            value=(1-learning_rate)*currentQTable[state][action]+learning_rate*(reward+discount_rate*max(currentQTable[new_state]))\n",
    "            \n",
    "            q_table[state][action] = value\n",
    "            \n",
    "            # transition next state\n",
    "            state = new_state\n",
    "            rewards_current_episode += reward\n",
    "            if done == True:\n",
    "                break\n",
    "\n",
    "        # Exploration rate decay\n",
    "        exploration_rate = min_exploration_rate+(max_exploration_rate-min_exploration_rate)*pow(math.e,(-exploration_decay_rate*episode))\n",
    "\n",
    "        rewards_all_episodes.append(rewards_current_episode)\n",
    "    #print(q_table)\n",
    "    rewards_avg.append(rewards_all_episodes)"
   ]
  },
  {
   "cell_type": "code",
   "execution_count": 7,
   "id": "64b37eb4",
   "metadata": {},
   "outputs": [
    {
     "data": {
      "text/plain": [
       "[<matplotlib.lines.Line2D at 0x1be4a451a10>]"
      ]
     },
     "execution_count": 7,
     "metadata": {},
     "output_type": "execute_result"
    },
    {
     "data": {
      "image/png": "[encoded data removed]",
      "text/plain": [
       "<Figure size 640x480 with 1 Axes>"
      ]
     },
     "metadata": {},
     "output_type": "display_data"
    }
   ],
   "source": [
    "\n",
    "x = [i for i in range(0,num_episodes)]\n",
    "y = np.mean(rewards_avg, axis=0)\n",
    "plot.xlabel('Episodes')\n",
    "plot.ylabel('Reward')\n",
    "plot.plot(x, y,'o')\n"
   ]
  },
  {
   "cell_type": "markdown",
   "id": "92c22839",
   "metadata": {},
   "source": [
    "watch it play!"
   ]
  },
  {
   "cell_type": "code",
   "execution_count": 9,
   "id": "ed17163f",
   "metadata": {},
   "outputs": [
    {
     "name": "stdout",
     "output_type": "stream",
     "text": [
      "3\n",
      ". . . . . . . . . \n",
      ". . . . . . . . . \n",
      ". . . . . . . . . \n",
      ". . . . . . . . . \n",
      ". . . . . . . S . \n",
      ". . . . . . . . . \n",
      ". . . . . . . . . \n",
      "****You reached the goal!****\n"
     ]
    }
   ],
   "source": [
    "for episode in range(3):\n",
    "    state = env.reset()\n",
    "    done = False\n",
    "    print(\"*****EPISODE \", episode+1, \"*****\\n\\n\\n\\n\")\n",
    "    time.sleep(1)\n",
    "    \n",
    "    for step in range(max_steps_per_episode):        \n",
    "        clear_output(wait=True)\n",
    "        env.render()\n",
    "        time.sleep(0.3)\n",
    "        \n",
    "        action = np.argmax(q_table[state])   \n",
    "        \n",
    "        new_state, reward, done = env.step(action)\n",
    "        clear_output(wait=True)\n",
    "        print(action)\n",
    "        env.render()\n",
    "        if done:\n",
    "            \n",
    "            if reward == 10:\n",
    "                print(\"****You reached the goal!****\")\n",
    "                time.sleep(3)\n",
    "            else:\n",
    "                print(\"****You fell through a hole!****\")\n",
    "                time.sleep(3)\n",
    "                clear_output(wait=True)\n",
    "            break\n",
    "            \n",
    "        state = new_state"
   ]
  },
  {
   "cell_type": "code",
   "execution_count": 10,
   "id": "2f0655b2",
   "metadata": {},
   "outputs": [
    {
     "name": "stdout",
     "output_type": "stream",
     "text": [
      "[0.1734691102230462, 0.1863637035905185, 0.15662839150566268, 1.3360122086086161, 0.8541280392797754, -0.0496158268822575, -0.15443353908046345, -0.1708696767681517]\n",
      "[0.27304359601401684, 0.24170352332821665, 0.32847563800407625, 1.3677013290643936, 1.2039462875650684, 0.896561303970884, 0.029030778560723884, 0.1424817375405401]\n",
      "[0.1390788164554838, 0.31540215456870235, -1.9909673072562195, 0.45053429209778495, 1.4162535618062915, 1.228034927342614, 0.3146042366793566, 0.29496745511587086]\n",
      "[-1.8293110475704157, -1.9705186737502585, 0.6617864071931032, -1.3860279149236283, 0.44530841198731896, 1.324521223164262, 0.39636419656333166, -1.9585173327160406]\n",
      "[0.6620725718911381, 0.13389378866378593, -1.9371053189910454, 4.878034789339048, 1.3609032147972997, 0.3512907343071805, -1.8862166527142983, 0.5499668853114357]\n",
      "[-1.4791935834466217, -0.730815333542889, 4.400963105403485, 5.721249999999992, 4.5317455633387755, -0.8567755673749926, -0.22566175976133118, -0.4882267485385947]\n",
      "[3.284704807339244, 3.4024312301570614, 3.0413351459002462, 3.8570163316881847, 5.7212499999980375, 2.4678502437992087, -1.7526044688370197, 2.5617329323824687]\n",
      "[1.51257196458674, 0.8052942488428448, 1.789332486906254, 3.6684303243380345, 1.123425237863512, 5.720802710455358, 2.6674819153665013, 2.060066599046153]\n",
      "[-0.4065118915106031, 0.7417949413774126, -0.041197524487461695, -0.7362329307527681, 0.7523739429342857, 5.413000024545746, 0.9256388696129318, 0.1624010609565803]\n",
      "[0.14167661303996423, -0.09849691776557967, 1.1795965505411228, 2.0527565233683687, 0.8530504491227922, 0.8945237646026744, 0.6435929731947848, 0.7423443439544928]\n",
      "[0.3756170436398445, 0.41000716814244986, 1.405307882906945, 2.6237021936785414, 2.052756447865304, 0.9501161963974079, 0.9501184797440205, 0.28936513586458223]\n",
      "[0.3351572214307756, -1.421507087113988, 0.8938824005843159, 2.2990071185948855, 2.4810959427170713, 2.051332665714295, 1.337042154662527, 0.28181144390664087]\n",
      "[-1.677735391957814, 0.8346619222547743, -0.39822493233127604, 3.7233203854436843, 2.8030648295868965, 2.4590161676848865, 1.4270155329096412, 0.38520331863542384]\n",
      "[-0.4150060896121288, 0.4056443190405205, 4.502780175849065, 5.90197980304514, 3.4794518395645038, 2.6014292179114995, 0.3563630856092982, -1.3632131927329145]\n",
      "[-1.956038071447193, 4.43518736444906, 5.72124907110097, 7.074999999999991, 5.7398806399807345, 3.4459823166253374, -0.8302465766585009, 0.7194170837336183]\n",
      "[4.434184242722816, 4.428814957837219, 5.720866358306661, 7.074370120276426, 7.074999999999991, 5.89628831382973, 4.785214666607605, -1.9697188340660712]\n",
      "[3.4223943354532613, 2.9276146105994956, 4.3954716696737375, 5.568155887523613, 7.074999999993426, 6.050349477543607, 4.6597761934586455, 3.6077105799619416]\n",
      "[0.2555527691040359, 0.9213008788728471, 2.657758658536147, 1.8018619177632007, 3.3355671492346786, 7.046538712802969, 2.1509062289743817, 0.28063634420580674]\n",
      "[0.7523813799078728, 0.8689858125292454, 2.052756154354218, 1.6850105558894652, 0.683913819971336, 0.7955145318871498, 0.8313372555875833, 0.680516304700079]\n",
      "[1.3168683696693766, 1.3623924803978311, 2.5126989151387757, 3.213427964119172, 2.0499973422656, 0.9372190031662809, 0.9480023963448712, 0.9472812037453403]\n",
      "[1.34462617969244, 0.590987549754019, 2.592893080916797, 3.8556232490449416, 3.2134279357466977, 2.0527553404503385, 2.052756538018949, 1.3333259177849826]\n",
      "[0.5470251055387334, -1.6156456073993417, 3.9344699706498982, 4.9742988884648, 3.9434523055114417, 3.213427564635919, 2.552505182861453, 1.3963656552311425]\n",
      "[-0.501858682559449, 4.480571997642165, 5.7329758869928185, 7.074999999999991, 4.9184466651162415, 3.525247400011388, 2.7344275264166455, 0.732696326834195]\n",
      "[4.574137336247217, 5.7212332185935795, 7.074622699724184, 8.499999999999993, 7.074136407268944, 4.849765646186784, 3.7094816162096507, 1.1871205779200238]\n",
      "[5.721249900551704, 5.721249984998954, 7.0749999996865744, 8.499999996331374, 8.499999999999993, 7.074999997598537, 5.837985171882503, 4.495133996050784]\n",
      "[5.34128061278689, 5.127288081665299, 6.206705257759512, 7.505536953038994, 8.29135737234007, 8.499999999999993, 6.928687453901183, 5.564174924791947]\n",
      "[3.152512649195536, 3.302635838013455, 3.694235549625664, 0.44822265514202714, 2.2204224000000004, 8.483301595594359, 4.490607026742747, 3.45072170030745]\n",
      "[-0.6807220192878317, 2.050454612924653, 0.6911724868256133, 0.8258203662082446, -1.5177344816061387, -1.0335229097773324, -0.1604228215944699, 0.3273523542028519]\n",
      "[1.950038398957882, 2.1777135581121265, 3.2134277448504145, 2.4533250813113168, 1.8487617101894867, 0.4325165595025411, 0.6602808541097851, 0.40876402777079085]\n",
      "[2.4192320758097723, 2.6301075963032874, 3.587687463569066, 4.435187422836, 3.212617772812959, 2.0505445534877786, 2.0520634670474616, 2.0520351563889005]\n",
      "[2.6203852738406384, 4.183302862492593, 4.600884997653189, 5.721249999999992, 4.434617760877289, 3.2125184078970674, 3.2129680763234907, 2.4223732745029567]\n",
      "[4.055143433246951, 5.752979790442956, 6.082189338137033, 7.074999999999991, 5.638759405971275, 4.365913990639349, 3.468740088184058, 2.680569052805436]\n",
      "[6.099499434690134, 6.940956940964307, 8.499999999999993, 8.484090153514222, 7.052751536056209, 5.709242204704401, 5.0285396252500885, 3.86915105063182]\n",
      "[7.074999999999444, 7.074999999999049, 8.49999999999794, 9.999999999999996, 8.499999999987445, 7.074999969638684, 7.074999999999044, 6.0605519863586625]\n",
      "[6.858221704464059, 6.39631266226937, 7.127998636060729, 7.343913661123766, 9.999999999999996, 6.185753336538497, 8.498887085366487, 6.771696963400848]\n",
      "[-0.04647647173698996, -0.48800000000000004, 2.8881889828249405, 1.0135411200000004, 2.6959623953612804, 9.952776335171304, 1.3693251447871133, 4.512788959380071]\n",
      "[-2.4475719688240627, 0.47066679057626326, 1.943731494447152, -0.25616416369936473, -1.8621259677501765, -1.591555044472293, -2.3948746023724006, -1.6925488593548326]\n",
      "[1.6919841025860833, 2.502890662746383, 3.2130359687709387, 1.6467436334601098, 0.7394441112192118, -1.4787594252252938, -0.4070545999895035, -0.343319394176497]\n",
      "[2.6424389192137014, 3.364215578920862, 4.435180486913878, 3.979976560326142, 2.6981378893001597, 0.6356015095278711, 1.5773155736021254, 0.5480549122182031]\n",
      "[1.1819362991090383, 1.6143223387107484, 5.72124925815274, 3.2341787187848503, 2.7503473358509662, 1.8037586102027428, 1.9547197778787264, 2.900231598170078]\n",
      "[4.677864570176448, 5.889136429751198, 7.074999999999984, 5.4419023905409185, 4.831762871348278, 3.910122842282205, 3.7793072249942874, 2.460553351509857]\n",
      "[4.699815219138949, 8.499999999999993, 2.265080270463447, 2.046449068885502, 3.9905180683041053, 3.862446682252971, 4.028947656781873, 2.909781150278439]\n",
      "[5.018147446553968, 3.3734443251090953, 9.999999999999973, 7.268244954935382, 2.7230606602490286, 3.4905860750037903, 3.086809877781361, 5.8598266019756]\n",
      "[0, 0, 0, 0, 0, 0, 0, 0]\n",
      "[3.193192808212471, 2.3987176427520005, -0.2, 2.274199242752, 1.8833011200000005, 0.7272000000000001, 9.81985601490518, 1.1457112093129909]\n",
      "[-2.23870463620141, 1.4016370189689737, -1.6880479238997899, -2.3979449661574437, -2.9620637602044297, -2.793522874545685, -1.9736771587759432, -2.084684988560382]\n",
      "[0.1374949562096211, -0.10787774172618536, 2.810281356177381, -1.368638461217705, -2.358535681565397, -2.847083442982492, -2.180569923734503, -3.1995711752428555]\n",
      "[1.3117822146640443, 4.395488534524956, 1.8613451570472384, -0.08305413405280815, -0.6825092824189403, -2.108181471382882, 0.07236005629378711, -1.5014520489471495]\n",
      "[-0.6432446234814513, 5.016857525675851, -0.7925760000000002, 2.149272713269106, -0.351306951701969, -1.5592319523605171, -0.6706153752276502, -0.11149755185848464]\n",
      "[-0.407450752, 1.2100395226869174, 0.5707268141164465, -0.2, -0.2, 0.29727742596178636, 0, 0]\n",
      "[1.9756418425874482, 0, 0, 0, 0, 0.5834774830931605, -0.4758819424, 0]\n",
      "[2.2198300775086515, 0, 0, -0.36000000000000004, 0, 0, 0.687216417643528, 6.4599942872223926]\n",
      "[9.450244186112002, 5.679005082009601, 4.067669248000001, -0.26804000000000006, -0.29844000000000004, -0.4984400000000001, 0.05601579927047378, 1.3173078798492797]\n",
      "[1.3015411200000004, 1.5891264000000003, 1.1415411200000003, 1.0419264000000004, -0.26804000000000006, 0, 1.2019264000000003, 8.322278400000002]\n",
      "[-2.163483850989496, -2.4458637056702868, -1.9170953221871079, -2.5992683948017428, -2.6352249178378124, -2.5208345372645464, -2.5577749366773235, -2.611224905813276]\n",
      "[-2.0390823443587305, 0.6012154209348849, -2.106319948847832, -2.2655324248267603, -2.396637279482841, -1.7987937108023504, -2.343513165696915, -2.55088010992728]\n",
      "[-0.9215770408372298, -1.3882624281958178, 1.679516487061722, -1.2873996118529112, -1.786643607090542, -1.5298205797169833, -1.9769254318479645, -1.0968657410203673]\n",
      "[-0.3966334739115316, -0.2, 0, 0, 0, -0.3128638, 0, -0.29272000000000004]\n",
      "[-0.0022604134143999533, 0.062434250240000023, -0.2, 0, 0, 0.19681275324174347, 0, 0]\n",
      "[0, 0, 0, 0, 0, 0, -0.2, 0]\n",
      "[-0.2, 0.484, 0, 0, -0.36000000000000004, -0.10804000000000001, -0.36000000000000004, 0.5314538035399934]\n",
      "[1.5798080000000003, 0.18, -0.36000000000000004, -0.32580000000000003, -0.42644000000000004, 0, -0.2, 0]\n",
      "[-0.2, -0.26804000000000006, 0, -0.2, 0, -0.2, -0.21332, 1.4646080000000001]\n"
     ]
    }
   ],
   "source": [
    "for line in q_table:\n",
    "    print(line)"
   ]
  },
  {
   "cell_type": "code",
   "execution_count": 11,
   "id": "47db1984",
   "metadata": {},
   "outputs": [
    {
     "name": "stdout",
     "output_type": "stream",
     "text": [
      "1.3360122086086161\n",
      "1.3677013290643936\n",
      "1.4162535618062915\n",
      "1.324521223164262\n",
      "4.878034789339048\n",
      "5.721249999999992\n",
      "5.7212499999980375\n",
      "5.720802710455358\n",
      "5.413000024545746\n",
      "2.0527565233683687\n",
      "2.6237021936785414\n",
      "2.4810959427170713\n",
      "3.7233203854436843\n",
      "5.90197980304514\n",
      "7.074999999999991\n",
      "7.074999999999991\n",
      "7.074999999993426\n",
      "7.046538712802969\n",
      "2.052756154354218\n",
      "3.213427964119172\n",
      "3.8556232490449416\n",
      "4.9742988884648\n",
      "7.074999999999991\n",
      "8.499999999999993\n",
      "8.499999999999993\n",
      "8.499999999999993\n",
      "8.483301595594359\n",
      "2.050454612924653\n",
      "3.2134277448504145\n",
      "4.435187422836\n",
      "5.721249999999992\n",
      "7.074999999999991\n",
      "8.499999999999993\n",
      "9.999999999999996\n",
      "9.999999999999996\n",
      "9.952776335171304\n",
      "1.943731494447152\n",
      "3.2130359687709387\n",
      "4.435180486913878\n",
      "5.72124925815274\n",
      "7.074999999999984\n",
      "8.499999999999993\n",
      "9.999999999999973\n",
      "0\n",
      "9.81985601490518\n",
      "1.4016370189689737\n",
      "2.810281356177381\n",
      "4.395488534524956\n",
      "5.016857525675851\n",
      "1.2100395226869174\n",
      "1.9756418425874482\n",
      "6.4599942872223926\n",
      "9.450244186112002\n",
      "8.322278400000002\n",
      "-1.9170953221871079\n",
      "0.6012154209348849\n",
      "1.679516487061722\n",
      "0\n",
      "0.19681275324174347\n",
      "0\n",
      "0.5314538035399934\n",
      "1.5798080000000003\n",
      "1.4646080000000001\n"
     ]
    }
   ],
   "source": [
    "for line in q_table:\n",
    "    print(max(line))"
   ]
  },
  {
   "cell_type": "code",
   "execution_count": 39,
   "id": "2c7aa986",
   "metadata": {},
   "outputs": [
    {
     "name": "stdout",
     "output_type": "stream",
     "text": [
      "[3 3 4 5 3 3 4 5 5 3 3 4 3 3 3 4 4 5 2 3 3 3 3 3 4 5 5 1 2 3 3 3 2 3 4 5 2\n",
      " 2 2 2 2 1 2 8 6 1 2 1 1 1 0 7 0 7 2 1 2 8 5 8 7 0 7]\n"
     ]
    }
   ],
   "source": [
    "#we get the max values from our table, if all our values are 0 then we set them as 8, which in our tuple is nothing\n",
    "max_values = np.max(q_table, axis=1)\n",
    "max_positions = np.argmax(q_table, axis=1)\n",
    "\n",
    "max_positions[max_values == 0] = 8\n",
    "\n",
    "print(max_positions)"
   ]
  },
  {
   "cell_type": "code",
   "execution_count": 40,
   "id": "6ebfdb13",
   "metadata": {},
   "outputs": [],
   "source": [
    "arrows = {\"R\":(1,0), \"L\":(-1,0),\"U\":(0,1),\"D\":(0,-1), \"RU\":(1,1), \"LU\":(-1,1), \"LD\":(-1,-1),\"RD\":(1,-1), 'N':(0,0)}\n",
    "scale = 0.25\n",
    "\n",
    "arrowsTuple = {'U': 0,\n",
    "               'RU': 1,\n",
    "               'R':2,\n",
    "               'RD':3,\n",
    "               'D':4,\n",
    "               'LD':5,\n",
    "               'L':6,\n",
    "               'LU':7,\n",
    "               'N':8\n",
    "               }\n"
   ]
  },
  {
   "cell_type": "code",
   "execution_count": 41,
   "id": "0665c5b3",
   "metadata": {},
   "outputs": [
    {
     "name": "stdout",
     "output_type": "stream",
     "text": [
      "[['RD' 'RD' 'D' 'LD' 'RD' 'RD' 'D' 'LD' 'LD']\n",
      " ['RD' 'RD' 'D' 'RD' 'RD' 'RD' 'D' 'D' 'LD']\n",
      " ['R' 'RD' 'RD' 'RD' 'RD' 'RD' 'D' 'LD' 'LD']\n",
      " ['RU' 'R' 'RD' 'RD' 'RD' 'R' 'RD' 'D' 'LD']\n",
      " ['R' 'R' 'R' 'R' 'R' 'RU' 'R' 'N' 'L']\n",
      " ['RU' 'R' 'RU' 'RU' 'RU' 'U' 'LU' 'U' 'LU']\n",
      " ['R' 'RU' 'R' 'N' 'LD' 'N' 'LU' 'U' 'LU']]\n"
     ]
    }
   ],
   "source": [
    "# we assign an arrow to the matrix based on our arrowsTuple value\n",
    "ar = np.empty((7, 9), dtype=object)\n",
    "\n",
    "for i, pos in enumerate(max_positions):\n",
    "        arrow_values = list(arrowsTuple.values())\n",
    "        pos_index = arrow_values.index(pos)\n",
    "        arrow_keys = list(arrowsTuple.keys())\n",
    "        arrow = arrow_keys[pos_index]\n",
    "\n",
    "        ar[i // 9, i % 9] = arrow\n",
    "\n",
    "print(ar)"
   ]
  },
  {
   "cell_type": "code",
   "execution_count": 45,
   "id": "c123e154",
   "metadata": {},
   "outputs": [
    {
     "data": {
      "image/png": "[encoded data removed]",
      "text/plain": [
       "<Figure size 900x700 with 1 Axes>"
      ]
     },
     "metadata": {},
     "output_type": "display_data"
    }
   ],
   "source": [
    "fig, ax = plot.subplots(figsize=(9, 7))\n",
    "for r, row in enumerate(ar):\n",
    "    for c, cell in enumerate(row):\n",
    "            plot.arrow(c, 9-r, scale*arrows[cell][0], scale*arrows[cell][1], head_width=0.1)"
   ]
  },
  {
   "attachments": {},
   "cell_type": "markdown",
   "id": "878bfc8c",
   "metadata": {},
   "source": [
    "#### 1. How do you plan to solve the problem using Q-learning?"
   ]
  },
  {
   "attachments": {},
   "cell_type": "markdown",
   "id": "d68b0c96",
   "metadata": {},
   "source": [
    "Q-learning is a reinforcement learning algorithm that learns an optimal policy through trial and error. The optimal policy is derived from the Q-table, which guides the agent's decision-making process by providing the best action-value estimates for each state-action pair.\n",
    "\n",
    "We plan to solve the problem using Q-learning by filling a Q-table with 63 rows (representing all the cells in the 9x7 matrix) and 8 columns (representing the 8 possible movements) of the same size as our matrix. During the learning process, we will determine the most effective actions to navigate the matrix by updating the Q-table.\n",
    "\n",
    "Our rewards will be as follows: 10 points if the agent reaches the goal, a deduction of 1 point for each step taken to reach the goal, and a deduction of 2 points if the agent falls off the map due to wind.\n",
    "\n",
    "By running the program with enough iterations, we will obtain the average values in the Q-table for each cell. We will use these values to guide the program's actions, and they will also help us determine the optimal policy after training."
   ]
  },
  {
   "attachments": {},
   "cell_type": "markdown",
   "id": "8660662d",
   "metadata": {},
   "source": [
    "#### 2. Find the optimal policy (plot an arrow in each grid cell indicating the best action to take for that cell) and plot the average reward over time."
   ]
  },
  {
   "attachments": {},
   "cell_type": "markdown",
   "id": "7fb0be12",
   "metadata": {},
   "source": [
    "After obtaining our Q-table values, we have the following optimal policy:\n",
    "\n",
    "![optimal policy](./optimal%20policy.PNG)"
   ]
  },
  {
   "attachments": {},
   "cell_type": "markdown",
   "id": "1529ba09",
   "metadata": {},
   "source": [
    "Here we can see that from the initial position, the agent tries to move towards the southeast, right, and down to reach the goal. We can also see that all positions near the goal attempt to reach the goal, indicating that our Q-table is functioning as intended by always aiming to reach the goal. Finally, there are arrows with no line, which represent positions where our Q-table did not have any values because the agent never reached those positions. We can verify this by running the game, and we will observe that the agent attempts the movements shown in our optimal policy."
   ]
  },
  {
   "attachments": {},
   "cell_type": "markdown",
   "id": "a3fa4a35",
   "metadata": {},
   "source": [
    "Regarding our average reward over time, we can see that our reward improves with time. Initially, it found the goal after ~40 movements and after 4000 episodes, we started to achieve a reward of 0, indicating that we successfully reach the goal within 10 movements. After 10000 episodes, we achieved a reward of 5, meaning that we reached the goal in just 5 movements. We can also observe that our algorithm does not improve further, which is correct since the minimum distance to the goal is indeed 5 movements, we lose 1 point of reward each movement so by using our rewards as movements: 10 points by getting to the goal and -5 points for our 5 movements we are indeed getting to the goal in our minimum movements possible. Therefore, we can confidently conclude that we have found the most optimal path to reach the goal after the training process.\n",
    "\n",
    "![optimal policy](./average%20reward%20over%20time.PNG)"
   ]
  },
  {
   "attachments": {},
   "cell_type": "markdown",
   "id": "34d9412c",
   "metadata": {},
   "source": [
    "# SOURCES\n",
    "\n",
    "https://stackoverflow.com/questions/72751096/plot-a-grid-with-arrows-on-it\n",
    "\n",
    "basic structure of env: https://chat.openai.com\n",
    "\n"
   ]
  }
 ],
 "metadata": {
  "kernelspec": {
   "display_name": "Python 3 (ipykernel)",
   "language": "python",
   "name": "python3"
  },
  "language_info": {
   "codemirror_mode": {
    "name": "ipython",
    "version": 3
   },
   "file_extension": ".py",
   "mimetype": "text/x-python",
   "name": "python",
   "nbconvert_exporter": "python",
   "pygments_lexer": "ipython3",
   "version": "3.11.2"
  }
 },
 "nbformat": 4,
 "nbformat_minor": 5
}
